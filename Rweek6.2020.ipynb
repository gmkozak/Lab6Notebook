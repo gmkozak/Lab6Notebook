{
 "cells": [
  {
   "cell_type": "markdown",
   "metadata": {},
   "source": [
    "T-tests and non-parameteric equivalent tests\n",
    "\n",
    "1. Two-sample t-test\n",
    "2. Paired t-test\n",
    "3. Wilcoxon Signed rank test\n",
    "4. Mann-Whitney U test"
   ]
  },
  {
   "cell_type": "markdown",
   "metadata": {},
   "source": [
    "1. Performing unpaired t-tests in R\n",
    "\n",
    "t.test(paired=FALSE, alternative=\"two.sided\") are the default so you do not need to specify"
   ]
  },
  {
   "cell_type": "code",
   "execution_count": null,
   "metadata": {},
   "outputs": [],
   "source": [
    "control<-c(91, 87, 99, 77, 88, 91)\n",
    "treatment<-c(101, 110, 103, 93, 99, 104)\n",
    "mydata<-data.frame(control,treatment)\n",
    "mydata\n",
    "\n",
    "boxplot(control,treatment, data=mydata, names=c(\"control\", \"treatment\"), ylab=\"Time\", xlab=\"Group\")"
   ]
  },
  {
   "cell_type": "code",
   "execution_count": null,
   "metadata": {},
   "outputs": [],
   "source": [
    "t.test(mydata$treatment,mydata$control)"
   ]
  },
  {
   "cell_type": "markdown",
   "metadata": {},
   "source": [
    "Alternative hypotheses can be specified\n",
    "\"less\", \"greater\", or default=\"two.sided\"\n",
    "\n",
    "Compare the following results and note that ORDER MATTERS"
   ]
  },
  {
   "cell_type": "code",
   "execution_count": null,
   "metadata": {},
   "outputs": [],
   "source": [
    "t.test(mydata$control,mydata$treatment,\n",
    "       alternative=\"less\")"
   ]
  },
  {
   "cell_type": "code",
   "execution_count": null,
   "metadata": {},
   "outputs": [],
   "source": [
    "t.test(mydata$control,mydata$treatment,\n",
    "       alternative=\"greater\")"
   ]
  },
  {
   "cell_type": "code",
   "execution_count": null,
   "metadata": {},
   "outputs": [],
   "source": [
    "t.test(mydata$treatment,mydata$control,\n",
    "       alternative=\"greater\")"
   ]
  },
  {
   "cell_type": "markdown",
   "metadata": {},
   "source": [
    "tilde (~) vs. comma(,) know when to use\n",
    "\n",
    "t.test(variable1,variable2)\n",
    "t.test(variable1~variable2)\n",
    "\n",
    "We will use the iris data set in R"
   ]
  },
  {
   "cell_type": "code",
   "execution_count": null,
   "metadata": {},
   "outputs": [],
   "source": [
    "data(iris)\n",
    "head(iris)"
   ]
  },
  {
   "cell_type": "code",
   "execution_count": null,
   "metadata": {},
   "outputs": [],
   "source": [
    "library(plyr)\n",
    "Iris.sum<- ddply(iris, c(\"Species\"),summarise,\n",
    "                         mean1=mean(Sepal.Length),mean2=mean(Sepal.Width), mean3=mean(Petal.Length))\n",
    "Iris.sum"
   ]
  },
  {
   "cell_type": "markdown",
   "metadata": {},
   "source": [
    "We will test if two of the iris species veriscolor and virginica have different Sepal.Widths\n",
    "\n",
    "First subset to these two species"
   ]
  },
  {
   "cell_type": "code",
   "execution_count": null,
   "metadata": {},
   "outputs": [],
   "source": [
    "IrisV<-subset(iris,!iris$Species==\"setosa\")\n",
    "summary(IrisV)\n",
    "boxplot(Sepal.Width~Species, data=IrisV)"
   ]
  },
  {
   "cell_type": "markdown",
   "metadata": {},
   "source": [
    "We run the t-test with ~ because there is one column with the measurements and on column with the factor"
   ]
  },
  {
   "cell_type": "code",
   "execution_count": null,
   "metadata": {},
   "outputs": [],
   "source": [
    "t.test(Sepal.Width~Species, data=IrisV)"
   ]
  },
  {
   "cell_type": "markdown",
   "metadata": {},
   "source": [
    "2. Performing paired t-tests in R\n",
    "\n",
    "Used the paired=TRUE option"
   ]
  },
  {
   "cell_type": "markdown",
   "metadata": {},
   "source": [
    "test if Sepal.Length is different then Sepal.Width for any given iris"
   ]
  },
  {
   "cell_type": "code",
   "execution_count": null,
   "metadata": {},
   "outputs": [],
   "source": [
    "t.test(iris$Sepal.Length,iris$Sepal.Width, paired=TRUE,alternative=\"two.sided\")"
   ]
  },
  {
   "cell_type": "markdown",
   "metadata": {},
   "source": [
    "3. Wilcoxon signed rank test\n",
    "\n",
    "Non parametric test are used when data are not normally distributed and the central limit theorem does not hold\n",
    "\n",
    "Use in place of a paired t-test for non-normal data"
   ]
  },
  {
   "cell_type": "markdown",
   "metadata": {},
   "source": [
    "We will use a fertilizer data set\n",
    "Biomass measured pre and post fertilizer addition"
   ]
  },
  {
   "cell_type": "code",
   "execution_count": null,
   "metadata": {},
   "outputs": [],
   "source": [
    "Fert.pre<-c(18.2,17.6,16.8,18.8,17.4,18.7,15.2,18.8,16.5,15.9)\n",
    "Fert.post<-c(20.1,19.7,19.1,19.1,16.4,15.9,18.4,17.1,17.1,16.7)\n",
    "\n",
    "Fert.all<-cbind(Fert.pre,Fert.post)\n",
    "\n",
    "Fert.all\n",
    "\n",
    "boxplot(Fert.pre,Fert.post, ylab=\"Biomass\", xlab=\"Treatment\", names=c(\"pre\",\"post\"))\n",
    "hist(Fert.pre, xlab=\"Pre Biomass\")\n",
    "hist(Fert.post, xlab=\"Post Biomass\")"
   ]
  },
  {
   "cell_type": "markdown",
   "metadata": {},
   "source": [
    "We will test if post is greater than pre fertilizer"
   ]
  },
  {
   "cell_type": "code",
   "execution_count": null,
   "metadata": {},
   "outputs": [],
   "source": [
    "wilcox.test(Fert.post,Fert.pre,paired=TRUE, alternative=\"greater\")"
   ]
  },
  {
   "cell_type": "markdown",
   "metadata": {},
   "source": [
    "4. MANN-WHITNEY U TEST \n",
    "\n",
    "Use in place of a two-sided t-test if data is not normal"
   ]
  },
  {
   "cell_type": "markdown",
   "metadata": {},
   "source": [
    "First we will put all our data into one dataframe\n",
    "\n",
    "Create control data frame named Fert1"
   ]
  },
  {
   "cell_type": "code",
   "execution_count": null,
   "metadata": {},
   "outputs": [],
   "source": [
    "Biomass<-c(19.1,16.4,15.9,18.4,17.1,15.2,18.8,16.5,16.0,17.2,16.7)\n",
    "\n",
    "Fert1<-as.data.frame(Biomass)\n",
    "Fert1\n",
    "Fert1$Type<-rep(\"Control\",length(Fert1))\n",
    "Fert1"
   ]
  },
  {
   "cell_type": "markdown",
   "metadata": {},
   "source": [
    "Create treatment data frame Fert2"
   ]
  },
  {
   "cell_type": "code",
   "execution_count": null,
   "metadata": {},
   "outputs": [],
   "source": [
    "Biomass<-c(18.2,20.1,17.6,16.8,18.9,19.7,19.3,17.4,18.7)\n",
    "Fert2<-as.data.frame(Biomass)\n",
    "Fert2\n",
    "Fert2$Type<-rep(\"Treated\",length(Fert2))\n",
    "Fert2"
   ]
  },
  {
   "cell_type": "markdown",
   "metadata": {},
   "source": [
    "Because they have the same column names \"Biomass\" and \"Type\" we can bind them together using rbind"
   ]
  },
  {
   "cell_type": "code",
   "execution_count": null,
   "metadata": {},
   "outputs": [],
   "source": [
    "Fert3<-as.data.frame(rbind(Fert1,Fert2))\n",
    "Fert3"
   ]
  },
  {
   "cell_type": "markdown",
   "metadata": {},
   "source": [
    "Look at histogram, looks non-normal"
   ]
  },
  {
   "cell_type": "code",
   "execution_count": null,
   "metadata": {},
   "outputs": [],
   "source": [
    "hist(Fert3$Biomass, xlab=\"Biomass\")"
   ]
  },
  {
   "cell_type": "code",
   "execution_count": null,
   "metadata": {},
   "outputs": [],
   "source": [
    "boxplot(Biomass~Type, data=Fert3, xlab=\"Type\",ylab=\"Biomass\")"
   ]
  },
  {
   "cell_type": "markdown",
   "metadata": {},
   "source": [
    "Run Mann-Whitney test"
   ]
  },
  {
   "cell_type": "code",
   "execution_count": null,
   "metadata": {},
   "outputs": [],
   "source": [
    "wilcox.test(Biomass~Type, data=Fert3, paired=FALSE)"
   ]
  }
 ],
 "metadata": {
  "kernelspec": {
   "display_name": "R",
   "language": "R",
   "name": "ir"
  },
  "language_info": {
   "codemirror_mode": "r",
   "file_extension": ".r",
   "mimetype": "text/x-r-source",
   "name": "R",
   "pygments_lexer": "r",
   "version": "3.5.1"
  }
 },
 "nbformat": 4,
 "nbformat_minor": 4
}
